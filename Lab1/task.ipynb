{
  "cells": [
    {
      "cell_type": "code",
      "execution_count": 1,
      "id": "3457eae2-a9f8-410e-a235-fd88ac9f7522",
      "metadata": {
        "colab": {
          "base_uri": "https://localhost:8080/"
        },
        "id": "3457eae2-a9f8-410e-a235-fd88ac9f7522",
        "outputId": "f2fd2aaa-95c8-43a4-99f4-94bf06a10fc8"
      },
      "outputs": [
        {
          "output_type": "stream",
          "name": "stdout",
          "text": [
            "Collecting pyspark==3.0.0\n",
            "  Downloading pyspark-3.0.0.tar.gz (204.7 MB)\n",
            "\u001b[2K     \u001b[90m━━━━━━━━━━━━━━━━━━━━━━━━━━━━━━━━━━━━━━━━\u001b[0m \u001b[32m204.7/204.7 MB\u001b[0m \u001b[31m5.9 MB/s\u001b[0m eta \u001b[36m0:00:00\u001b[0m\n",
            "\u001b[?25h  Preparing metadata (setup.py) ... \u001b[?25l\u001b[?25hdone\n",
            "Collecting py4j==0.10.9 (from pyspark==3.0.0)\n",
            "  Downloading py4j-0.10.9-py2.py3-none-any.whl (198 kB)\n",
            "\u001b[2K     \u001b[90m━━━━━━━━━━━━━━━━━━━━━━━━━━━━━━━━━━━━━━━━\u001b[0m \u001b[32m198.6/198.6 kB\u001b[0m \u001b[31m20.3 MB/s\u001b[0m eta \u001b[36m0:00:00\u001b[0m\n",
            "\u001b[?25hBuilding wheels for collected packages: pyspark\n",
            "  Building wheel for pyspark (setup.py) ... \u001b[?25l\u001b[?25hdone\n",
            "  Created wheel for pyspark: filename=pyspark-3.0.0-py2.py3-none-any.whl size=205044159 sha256=274d9679463da151040f58ae52e6489d3d100dc72740f2fa037d2fb3ae19ccc4\n",
            "  Stored in directory: /root/.cache/pip/wheels/b1/bb/8b/ca24d3f756f2ed967225b0871898869db676eb5846df5adc56\n",
            "Successfully built pyspark\n",
            "Installing collected packages: py4j, pyspark\n",
            "  Attempting uninstall: py4j\n",
            "    Found existing installation: py4j 0.10.9.7\n",
            "    Uninstalling py4j-0.10.9.7:\n",
            "      Successfully uninstalled py4j-0.10.9.7\n",
            "Successfully installed py4j-0.10.9 pyspark-3.0.0\n"
          ]
        }
      ],
      "source": [
        "!pip3 install pyspark==3.0.0"
      ]
    },
    {
      "cell_type": "code",
      "execution_count": 2,
      "id": "7a81e7f8-c079-451d-9edf-b9763666a9c2",
      "metadata": {
        "colab": {
          "base_uri": "https://localhost:8080/",
          "height": 196
        },
        "id": "7a81e7f8-c079-451d-9edf-b9763666a9c2",
        "outputId": "a12c0474-fcec-44dd-a8f1-ef6f4c7aa092"
      },
      "outputs": [
        {
          "output_type": "execute_result",
          "data": {
            "text/plain": [
              "<SparkContext master=local[1] appName=Lab1>"
            ],
            "text/html": [
              "\n",
              "        <div>\n",
              "            <p><b>SparkContext</b></p>\n",
              "\n",
              "            <p><a href=\"http://8b8b5ea17cbe:4040\">Spark UI</a></p>\n",
              "\n",
              "            <dl>\n",
              "              <dt>Version</dt>\n",
              "                <dd><code>v3.0.0</code></dd>\n",
              "              <dt>Master</dt>\n",
              "                <dd><code>local[1]</code></dd>\n",
              "              <dt>AppName</dt>\n",
              "                <dd><code>Lab1</code></dd>\n",
              "            </dl>\n",
              "        </div>\n",
              "        "
            ]
          },
          "metadata": {},
          "execution_count": 2
        }
      ],
      "source": [
        "from pyspark import SparkContext, SparkConf\n",
        "app_name = \"Lab1\"\n",
        "conf = SparkConf().setAppName(app_name).setMaster('local[1]')\n",
        "sc = SparkContext(conf=conf)\n",
        "sc"
      ]
    },
    {
      "cell_type": "code",
      "execution_count": 3,
      "id": "e647ec07-8fbd-4cbf-b26b-d580b8bd087d",
      "metadata": {
        "id": "e647ec07-8fbd-4cbf-b26b-d580b8bd087d"
      },
      "outputs": [],
      "source": [
        "from typing import NamedTuple\n",
        "from datetime import datetime\n",
        "from functools import reduce"
      ]
    },
    {
      "cell_type": "code",
      "execution_count": 4,
      "id": "90253152-5d9e-4739-85b5-21e77c37803e",
      "metadata": {
        "id": "90253152-5d9e-4739-85b5-21e77c37803e"
      },
      "outputs": [],
      "source": [
        "def initStation(stations):\n",
        "    class Station(NamedTuple):\n",
        "        station_id: int\n",
        "        name: str\n",
        "        lat: float\n",
        "        long: float\n",
        "        dockcount: int\n",
        "        landmark: str\n",
        "        installation: str\n",
        "\n",
        "    for station in stations:\n",
        "        yield Station(\n",
        "            station_id = int(station[0]),\n",
        "            name = station[1],\n",
        "            lat = float(station[2]),\n",
        "            long = float(station[3]),\n",
        "            dockcount = int(station[4]),\n",
        "            landmark = station[5],\n",
        "            installation = datetime.strptime(station[6], '%m/%d/%Y')\n",
        "        )\n",
        "\n",
        "def initTrip(trips):\n",
        "    class Trip(NamedTuple):\n",
        "        trip_id: int\n",
        "        duration: int\n",
        "        start_date: datetime\n",
        "        start_station_name: str\n",
        "        start_station_id: int\n",
        "        end_date: datetime\n",
        "        end_station_name: str\n",
        "        end_station_id: int\n",
        "        bike_id: int\n",
        "        subscription_type: str\n",
        "        zip_code: str\n",
        "\n",
        "    for trip in trips:\n",
        "        try:\n",
        "            yield Trip(\n",
        "             trip_id = int(trip[0]),\n",
        "             duration = int(trip[1]),\n",
        "             start_date = datetime.strptime(trip[2], '%m/%d/%Y %H:%M'),\n",
        "             start_station_name = trip[3],\n",
        "             start_station_id = int(trip[4]),\n",
        "             end_date = datetime.strptime(trip[5], '%m/%d/%Y %H:%M'),\n",
        "             end_station_name = trip[6],\n",
        "             end_station_id = trip[7],\n",
        "             bike_id = int(trip[8]),\n",
        "             subscription_type = trip[9],\n",
        "             zip_code = trip[10]\n",
        "            )\n",
        "        except:\n",
        "            pass"
      ]
    },
    {
      "cell_type": "code",
      "execution_count": 5,
      "id": "f7d74936-afda-4380-979b-bb1ba3468b55",
      "metadata": {
        "id": "f7d74936-afda-4380-979b-bb1ba3468b55"
      },
      "outputs": [],
      "source": [
        "trip_data = sc.textFile(\"trip.csv\")\n",
        "station_data = sc.textFile(\"station.csv\")"
      ]
    },
    {
      "cell_type": "code",
      "execution_count": 6,
      "id": "893b6c28-fb64-4ae1-825b-9586ed81c1c1",
      "metadata": {
        "colab": {
          "base_uri": "https://localhost:8080/",
          "height": 52
        },
        "id": "893b6c28-fb64-4ae1-825b-9586ed81c1c1",
        "outputId": "140bd289-9c75-4b0b-a48a-f9772db7d7e9"
      },
      "outputs": [
        {
          "output_type": "execute_result",
          "data": {
            "text/plain": [
              "'id,duration,start_date,start_station_name,start_station_id,end_date,end_station_name,end_station_id,bike_id,subscription_type,zip_code'"
            ],
            "application/vnd.google.colaboratory.intrinsic+json": {
              "type": "string"
            }
          },
          "metadata": {},
          "execution_count": 6
        }
      ],
      "source": [
        "trip_data.first()"
      ]
    },
    {
      "cell_type": "code",
      "execution_count": 7,
      "id": "fdf1cbc3-5530-4a01-896b-47e396aeb868",
      "metadata": {
        "id": "fdf1cbc3-5530-4a01-896b-47e396aeb868"
      },
      "outputs": [],
      "source": [
        "def get_data_without_headers(data):\n",
        "    headers = data.first()\n",
        "    table_data = data.filter(lambda row: row != headers).map(lambda row: row.split(\",\"))\n",
        "    return table_data\n",
        "\n",
        "trips = get_data_without_headers(trip_data)\n",
        "stations = get_data_without_headers(station_data)"
      ]
    },
    {
      "cell_type": "code",
      "execution_count": 8,
      "id": "0d3c4def-c533-43ab-9ef3-a049a4771b7e",
      "metadata": {
        "colab": {
          "base_uri": "https://localhost:8080/"
        },
        "id": "0d3c4def-c533-43ab-9ef3-a049a4771b7e",
        "outputId": "8188e7ff-4d8d-411f-d188-49e374df4858"
      },
      "outputs": [
        {
          "output_type": "execute_result",
          "data": {
            "text/plain": [
              "[['4576',\n",
              "  '63',\n",
              "  '8/29/2013 14:13',\n",
              "  'South Van Ness at Market',\n",
              "  '66',\n",
              "  '8/29/2013 14:14',\n",
              "  'South Van Ness at Market',\n",
              "  '66',\n",
              "  '520',\n",
              "  'Subscriber',\n",
              "  '94127'],\n",
              " ['4607',\n",
              "  '70',\n",
              "  '8/29/2013 14:42',\n",
              "  'San Jose City Hall',\n",
              "  '10',\n",
              "  '8/29/2013 14:43',\n",
              "  'San Jose City Hall',\n",
              "  '10',\n",
              "  '661',\n",
              "  'Subscriber',\n",
              "  '95138'],\n",
              " ['4130',\n",
              "  '71',\n",
              "  '8/29/2013 10:16',\n",
              "  'Mountain View City Hall',\n",
              "  '27',\n",
              "  '8/29/2013 10:17',\n",
              "  'Mountain View City Hall',\n",
              "  '27',\n",
              "  '48',\n",
              "  'Subscriber',\n",
              "  '97214']]"
            ]
          },
          "metadata": {},
          "execution_count": 8
        }
      ],
      "source": [
        "trips.take(3)"
      ]
    },
    {
      "cell_type": "code",
      "execution_count": 9,
      "id": "70f4edf2-040e-4dc1-a368-16bf04b56340",
      "metadata": {
        "id": "70f4edf2-040e-4dc1-a368-16bf04b56340"
      },
      "outputs": [],
      "source": [
        "stations_mapped = stations.mapPartitions(initStation)"
      ]
    },
    {
      "cell_type": "code",
      "execution_count": 10,
      "id": "4e45c96e-0852-45be-bda1-89a47cfd293e",
      "metadata": {
        "colab": {
          "base_uri": "https://localhost:8080/"
        },
        "id": "4e45c96e-0852-45be-bda1-89a47cfd293e",
        "outputId": "460ef78a-9667-4b3f-8dbd-04a9906cfc96"
      },
      "outputs": [
        {
          "output_type": "execute_result",
          "data": {
            "text/plain": [
              "Station(station_id=2, name='San Jose Diridon Caltrain Station', lat=37.329732, long=-121.90178200000001, dockcount=27, landmark='San Jose', installation=datetime.datetime(2013, 8, 6, 0, 0))"
            ]
          },
          "metadata": {},
          "execution_count": 10
        }
      ],
      "source": [
        "stations_mapped.first()"
      ]
    },
    {
      "cell_type": "code",
      "execution_count": 11,
      "id": "8ffc4838-df68-4a5f-bb12-017ae46923ca",
      "metadata": {
        "id": "8ffc4838-df68-4a5f-bb12-017ae46923ca"
      },
      "outputs": [],
      "source": [
        "trips_mapped= trips.mapPartitions(initTrip)"
      ]
    },
    {
      "cell_type": "code",
      "execution_count": 12,
      "id": "fff47287-f09c-4fbf-9924-75686f68c139",
      "metadata": {
        "colab": {
          "base_uri": "https://localhost:8080/"
        },
        "id": "fff47287-f09c-4fbf-9924-75686f68c139",
        "outputId": "0a788c85-35be-4339-f5bf-41e99bf658b0"
      },
      "outputs": [
        {
          "output_type": "execute_result",
          "data": {
            "text/plain": [
              "Trip(trip_id=4576, duration=63, start_date=datetime.datetime(2013, 8, 29, 14, 13), start_station_name='South Van Ness at Market', start_station_id=66, end_date=datetime.datetime(2013, 8, 29, 14, 14), end_station_name='South Van Ness at Market', end_station_id='66', bike_id=520, subscription_type='Subscriber', zip_code='94127')"
            ]
          },
          "metadata": {},
          "execution_count": 12
        }
      ],
      "source": [
        "trips_mapped.first()"
      ]
    },
    {
      "cell_type": "markdown",
      "id": "ce9a15b7-54b8-46b2-ab03-4d0cdddf6b32",
      "metadata": {
        "id": "ce9a15b7-54b8-46b2-ab03-4d0cdddf6b32"
      },
      "source": [
        "# 1. Найти велосипед с максимальным временем пробега."
      ]
    },
    {
      "cell_type": "code",
      "execution_count": 13,
      "id": "39537d49-5256-4e75-8f16-ae615b5df9cb",
      "metadata": {
        "colab": {
          "base_uri": "https://localhost:8080/"
        },
        "id": "39537d49-5256-4e75-8f16-ae615b5df9cb",
        "outputId": "7ccad385-8ae8-411e-cf3c-a15f7aff3bb3"
      },
      "outputs": [
        {
          "output_type": "execute_result",
          "data": {
            "text/plain": [
              "535"
            ]
          },
          "metadata": {},
          "execution_count": 13
        }
      ],
      "source": [
        "bike_max_mileage = trips_mapped.keyBy(lambda x: x.bike_id)\n",
        "bike_duration = bike_max_mileage.mapValues(lambda x: x.duration).reduceByKey(lambda x1, x2: x1 + x2)\n",
        "bike_duration_top = bike_duration.top(1, key=lambda x: x[1])[0][0]\n",
        "bike_duration_top"
      ]
    },
    {
      "cell_type": "markdown",
      "id": "b5ec529e-001c-4d0a-91fb-ba2e716af795",
      "metadata": {
        "id": "b5ec529e-001c-4d0a-91fb-ba2e716af795"
      },
      "source": [
        "# 2. Найти наибольшее геодезическое расстояние между станциями."
      ]
    },
    {
      "cell_type": "code",
      "execution_count": 14,
      "id": "a5cd6b82-7813-4e7e-a093-439611b15494",
      "metadata": {
        "colab": {
          "base_uri": "https://localhost:8080/"
        },
        "id": "a5cd6b82-7813-4e7e-a093-439611b15494",
        "outputId": "321b8ed3-133a-458b-e2ec-9fa1b85fddc2"
      },
      "outputs": [
        {
          "output_type": "execute_result",
          "data": {
            "text/plain": [
              "Trip(trip_id=4576, duration=63, start_date=datetime.datetime(2013, 8, 29, 14, 13), start_station_name='South Van Ness at Market', start_station_id=66, end_date=datetime.datetime(2013, 8, 29, 14, 14), end_station_name='South Van Ness at Market', end_station_id='66', bike_id=520, subscription_type='Subscriber', zip_code='94127')"
            ]
          },
          "metadata": {},
          "execution_count": 14
        }
      ],
      "source": [
        "trips_mapped.first()"
      ]
    },
    {
      "cell_type": "code",
      "execution_count": 15,
      "id": "b26de22d-5acf-43db-bad0-2feea64ef658",
      "metadata": {
        "colab": {
          "base_uri": "https://localhost:8080/"
        },
        "id": "b26de22d-5acf-43db-bad0-2feea64ef658",
        "outputId": "eedb5a23-448d-40c9-c1d7-9b69f3ccaed2"
      },
      "outputs": [
        {
          "output_type": "execute_result",
          "data": {
            "text/plain": [
              "[((66, '67'), 83),\n",
              " ((4, '5'), 109),\n",
              " ((10, '11'), 114),\n",
              " ((49, '54'), 125),\n",
              " ((6, '4'), 126)]"
            ]
          },
          "metadata": {},
          "execution_count": 15
        }
      ],
      "source": [
        "trips_stations = trips_mapped.filter(lambda trip: str(trip.start_station_id) != str(trip.end_station_id))\\\n",
        "                             .keyBy(lambda trip: (trip.start_station_id, trip.end_station_id))\\\n",
        "                             .mapValues(lambda trip: trip.duration)\n",
        "trips_stations.take(5)"
      ]
    },
    {
      "cell_type": "code",
      "execution_count": 16,
      "id": "2160a6d4-c631-4e1e-8b94-2105e685a6a3",
      "metadata": {
        "id": "2160a6d4-c631-4e1e-8b94-2105e685a6a3"
      },
      "outputs": [],
      "source": [
        "query = trips_stations\\\n",
        "    .aggregateByKey(\n",
        "        (0.0, 0.0),\n",
        "        lambda acc, value: (acc[0] + value, acc[1] + 1),\n",
        "        lambda acc1, acc2: (acc1[0] + acc2[0], acc1[1] + acc2[1]),)\\\n",
        "    .mapValues(lambda values: values[0] / values[1])"
      ]
    },
    {
      "cell_type": "code",
      "execution_count": 17,
      "id": "806a40c6-12ef-42a0-9aee-35c153c27497",
      "metadata": {
        "colab": {
          "base_uri": "https://localhost:8080/"
        },
        "id": "806a40c6-12ef-42a0-9aee-35c153c27497",
        "outputId": "2fde2e63-698d-4606-d193-e7992049c49f"
      },
      "outputs": [
        {
          "output_type": "execute_result",
          "data": {
            "text/plain": [
              "[(229914.0, (26, '16')),\n",
              " (179212.5, (32, '63')),\n",
              " (169308.0, (80, '36')),\n",
              " (156461.03603603604, (66, '62')),\n",
              " (101207.5, (28, '2'))]"
            ]
          },
          "metadata": {},
          "execution_count": 17
        }
      ],
      "source": [
        "query.map(lambda x: x[::-1]).top(5)"
      ]
    },
    {
      "cell_type": "markdown",
      "id": "8ba08211-a70d-4621-a998-944b847fb752",
      "metadata": {
        "id": "8ba08211-a70d-4621-a998-944b847fb752"
      },
      "source": [
        "# 3. Найти путь велосипеда с максимальным временем пробега через станции."
      ]
    },
    {
      "cell_type": "code",
      "execution_count": 18,
      "id": "9de4d182-e93b-463d-8c6b-7d6858f3773d",
      "metadata": {
        "colab": {
          "base_uri": "https://localhost:8080/"
        },
        "id": "9de4d182-e93b-463d-8c6b-7d6858f3773d",
        "outputId": "06550416-5aea-479f-971d-1f89db6ff14c"
      },
      "outputs": [
        {
          "output_type": "execute_result",
          "data": {
            "text/plain": [
              "('Post at Kearney', 'San Francisco Caltrain (Townsend at 4th)')"
            ]
          },
          "metadata": {},
          "execution_count": 18
        }
      ],
      "source": [
        "bike_path = trips_mapped.filter(lambda x: x.bike_id == bike_duration_top)\\\n",
        "                        .sortBy(lambda x: x.start_date)\\\n",
        "                        .map(lambda x: (x.start_station_name, x.end_station_name))\n",
        "\n",
        "bike_path.first()"
      ]
    },
    {
      "cell_type": "markdown",
      "id": "515f70f0-0b35-4e17-a682-330d9c3bf154",
      "metadata": {
        "tags": [],
        "id": "515f70f0-0b35-4e17-a682-330d9c3bf154"
      },
      "source": [
        "# 4. Найти количество велосипедов в системе."
      ]
    },
    {
      "cell_type": "code",
      "execution_count": 19,
      "id": "3be03487-4ea9-4b9d-98dd-be6567dae828",
      "metadata": {
        "colab": {
          "base_uri": "https://localhost:8080/"
        },
        "id": "3be03487-4ea9-4b9d-98dd-be6567dae828",
        "outputId": "072b7647-3378-4893-d2fb-e8cb03af7c25"
      },
      "outputs": [
        {
          "output_type": "execute_result",
          "data": {
            "text/plain": [
              "700"
            ]
          },
          "metadata": {},
          "execution_count": 19
        }
      ],
      "source": [
        "count_bikes = trips_mapped.map(lambda x: x.bike_id).distinct().count()\n",
        "count_bikes"
      ]
    },
    {
      "cell_type": "markdown",
      "id": "1e8d99a9-4e08-4177-9a92-52154cebdc3f",
      "metadata": {
        "id": "1e8d99a9-4e08-4177-9a92-52154cebdc3f"
      },
      "source": [
        "# 5. Найти пользователей потративших на поездки более 3 часов."
      ]
    },
    {
      "cell_type": "code",
      "execution_count": 20,
      "id": "8ae802fb-774d-4ef4-8553-7a8a0f72d441",
      "metadata": {
        "colab": {
          "base_uri": "https://localhost:8080/"
        },
        "id": "8ae802fb-774d-4ef4-8553-7a8a0f72d441",
        "outputId": "6cd48f87-06fa-4890-c5e8-a1e7f2e1aa11"
      },
      "outputs": [
        {
          "output_type": "execute_result",
          "data": {
            "text/plain": [
              "['58553',\n",
              " '94301',\n",
              " '94039',\n",
              " '94133',\n",
              " '93726',\n",
              " '94123',\n",
              " '4517',\n",
              " '29200',\n",
              " '45322',\n",
              " '94080']"
            ]
          },
          "metadata": {},
          "execution_count": 20
        }
      ],
      "source": [
        "users = trips_mapped.filter(lambda x: x.duration > (3 * 60 * 60))\\\n",
        "                    .map(lambda x: x.zip_code)\\\n",
        "                    .filter(lambda x: x != \"\")\\\n",
        "                    .distinct()\n",
        "users.take(10)"
      ]
    }
  ],
  "metadata": {
    "kernelspec": {
      "display_name": "Python 3",
      "language": "python",
      "name": "python3"
    },
    "language_info": {
      "codemirror_mode": {
        "name": "ipython",
        "version": 3
      },
      "file_extension": ".py",
      "mimetype": "text/x-python",
      "name": "python",
      "nbconvert_exporter": "python",
      "pygments_lexer": "ipython3",
      "version": "3.6.9"
    },
    "colab": {
      "provenance": []
    }
  },
  "nbformat": 4,
  "nbformat_minor": 5
}